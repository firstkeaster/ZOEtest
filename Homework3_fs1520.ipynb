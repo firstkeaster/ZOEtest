{
 "cells": [
  {
   "cell_type": "markdown",
   "metadata": {},
   "source": [
    "# Introduction to Data Science\n",
    "## Homework 3"
   ]
  },
  {
   "cell_type": "markdown",
   "metadata": {},
   "source": [
    "Student Name: Fu Shang\n",
    "\n",
    "Student Netid: fs1520"
   ]
  },
  {
   "cell_type": "markdown",
   "metadata": {},
   "source": [
    "### Part 1\n",
    "Assume that $X$ and $Y$ are discrete random variables. The formulas for Mutual Information, Entropy and Conditional Entropy are given by:\n",
    "\n",
    "$$\\text{Mutual Information} = \\sum_{y \\in Y} \\sum_{x \\in X} p(x, y) \\cdot log\\frac{p(x, y)}{p(x)p(y)}$$\n",
    "\n",
    "$$\\text{Entropy} = H(Y) = -\\sum_{y \\in Y} p(y) \\cdot log(p(y))$$\n",
    "\n",
    "$$\\text{Conditional Entropy} = H(Y \\mid X) = \\sum_{x \\in X} p(x) \\cdot H(Y \\mid X = x)$$\n",
    "\n",
    "Show mathematically that $\\text{Mutual Information} = \\text{Information Gain}$, where $\\text{Information Gain} = H(Y) – H(Y \\mid X)$. Give the derivation below (note, this can be done using Latek math notation, which renders nicely. See above. Feel free to do it by hand and submit an image of your proof)."
   ]
  },
  {
   "cell_type": "markdown",
   "metadata": {},
   "source": [
    "![Homework3_fs1520_part1.jpg](file:D:/1_Study/Homework3_fs1520_part1.jpg)\n",
    "-please check the attachment Homework3_fs1520_part1.pdf"
   ]
  },
  {
   "cell_type": "markdown",
   "metadata": {},
   "source": [
    "### Part 2 - Preparing a Training Set and Training a Decision Tree\n",
    "This is a hands-on task where we build a predictive model using Decision Trees discussed in class. For this part, we will be using the data in `cell2cell_data.csv`.\n",
    "\n",
    "These historical data consist of 39,859 customers: 19,901 customers that churned (i.e., left the company) and 19,958 that did not churn (see the `\"churndep\"` variable). Here are the data set's 11 possible predictor variables for churning behavior: \n",
    "\n",
    "```\n",
    "Pos.  Var. Name  Var. Description\n",
    "----- ---------- --------------------------------------------------------------\n",
    "1     revenue    Mean monthly revenue in dollars\n",
    "2     outcalls   Mean number of outbound voice calls\n",
    "3     incalls    Mean number of inbound voice calls\n",
    "4     months     Months in Service\n",
    "5     eqpdays    Number of days the customer has had his/her current equipment\n",
    "6     webcap     Handset is web capable\n",
    "7     marryyes   Married (1=Yes; 0=No)\n",
    "8     travel     Has traveled to non-US country (1=Yes; 0=No)\n",
    "9     pcown      Owns a personal computer (1=Yes; 0=No)\n",
    "10    creditcd   Possesses a credit card (1=Yes; 0=No)\n",
    "11    retcalls   Number of calls previously made to retention team\n",
    "```\n",
    "\n",
    "The 12th column, the target variable `\"churndep\"`, equals 1 if the customer churned, and 0 otherwise. "
   ]
  },
  {
   "cell_type": "markdown",
   "metadata": {},
   "source": [
    "1\\. Load the data and prepare it for modeling. Note that the features are already processed for you, so the only thing needed here is split the data into training and testing. Use pandas to create two data frames: train_df and test_df, where train_df has 80% of the data chosen uniformly at random without replacement (test_df should have the other 20%). Also, make sure to write your own code to do the splits. You may use any random() function numpy but DO NOT use the data splitting functions from Sklearn."
   ]
  },
  {
   "cell_type": "code",
   "execution_count": 6,
   "metadata": {
    "collapsed": true
   },
   "outputs": [],
   "source": [
    "import pandas as pd\n",
    "import numpy as np\n",
    "import matplotlib as plt\n",
    "import sklearn\n",
    "from sklearn.tree import DecisionTreeClassifier"
   ]
  },
  {
   "cell_type": "code",
   "execution_count": 4,
   "metadata": {
    "collapsed": true
   },
   "outputs": [],
   "source": [
    "#ccd=pd.read_csv('C:/Users/JsFig/OneDrive/NYU 17/1001/HW/cell2cell_data.csv',sep=',')\n",
    "tmp=np.loadtxt('C:/Users/JsFig/OneDrive/NYU 17/1001/HW/cell2cell_data.csv', dtype=np.float,delimiter=',')\n",
    "C=['revenue','outcalls','incalls','months','eqpdays','webcap','marryyse','travel','pcown','creditcd','retcalls','churndep']\n",
    "df=pd.DataFrame(columns=C,data=tmp)\n",
    "train_np=tmp\n",
    "cter=len(df)\n",
    "cttd=int(0.2*cter)\n",
    "for k in range(cttd):\n",
    "    r=np.random.randint(len(train_np))\n",
    "    #print(r)\n",
    "    if 'test_np' not in dir(): #test if test_np exists\n",
    "        test_np=([train_np[r]])\n",
    "    test_np=np.vstack((test_np,train_np[r]))\n",
    "    train_np=np.delete(train_np,r,0) #delete row r in train\n",
    "train_df=pd.DataFrame(columns=C,data=train_np)\n",
    "test_df=pd.DataFrame(columns=C,data=test_np)\n",
    "#test_df.describe().T\n",
    "# Code here"
   ]
  },
  {
   "cell_type": "markdown",
   "metadata": {},
   "source": [
    "2\\. If we had to, how would we prove to ourselves or a colleague that our data was indeed randomly sampled on X? And by prove, I mean empirically, not just showing this person our code. Don't actually do the work, just describe in your own words a test you could here. Hint: think about this in terms of selection bias and use notes from our 2nd lecture."
   ]
  },
  {
   "cell_type": "markdown",
   "metadata": {},
   "source": [
    "<font face=\"Black\" size=5>Answer:</font><br>\n",
    "If P(S|X,Y)=P(S), the selection is unbiased. I can use a random number from in the [0,1) interval, multiply it by the total line number 39859 to choose a line in the original data set, and see the sample's probability of falling into the two splited data sets. With the number of trails increased, the probability will be approaching 0.2:0.8 ."
   ]
  },
  {
   "cell_type": "markdown",
   "metadata": {},
   "source": [
    "3\\. Now build and train a decision tree classifier using `DecisionTreeClassifier()` [(manual page)](http://scikit-learn.org/stable/modules/generated/sklearn.tree.DecisionTreeClassifier.html) on train_df to predict the `\"churndep\"` target variable. Make sure to use `criterion='entropy'` when instantiating an instance of `DecisionTreeClassifier()`. For all other settings you should use all of the default options."
   ]
  },
  {
   "cell_type": "code",
   "execution_count": 11,
   "metadata": {
    "collapsed": true
   },
   "outputs": [],
   "source": [
    "import sklearn\n",
    "from sklearn.tree import DecisionTreeClassifier\n",
    "dt=DecisionTreeClassifier(criterion='entropy')\n",
    "Y=train_df['churndep']\n",
    "X=train_df.drop('churndep',1)\n",
    "dt.fit(X,Y)\n",
    "feature_mi=dt.feature_importances_\n",
    "feature_mi_dict=dict(zip(X.columns.values,feature_mi))\n",
    "# Code here"
   ]
  },
  {
   "cell_type": "markdown",
   "metadata": {},
   "source": [
    "4\\. Using the resulting model from 2.2, show a bar plot of feature names and their feature importance (hint: check the attributes of the `DecisionTreeClassifier()` object directly in IPython or check the manual!)."
   ]
  },
  {
   "cell_type": "code",
   "execution_count": 127,
   "metadata": {},
   "outputs": [
    {
     "data": {
      "image/png": "[encoded data removed]",
      "text/plain": [
       "<matplotlib.figure.Figure at 0x2926c154240>"
      ]
     },
     "metadata": {},
     "output_type": "display_data"
    }
   ],
   "source": [
    "import matplotlib.pyplot as plt\n",
    "%matplotlib inline\n",
    "# Code here\n",
    "feature_mi_pd=pd.DataFrame(index=X.columns.values,data=feature_mi[:np.newaxis])\n",
    "fig,ax=plt.subplots(figsize=(10,5))\n",
    "vt=[x for x in range(1,12,1)]\n",
    "y=np.array(list(feature_mi_pd[0]))\n",
    "\n",
    "xstick1=list(X.columns.values)\n",
    "#print(xstick1)\n",
    "ax.set_xticks(vt)\n",
    "ax.set_xticklabels(X.columns.values,rotation=30)\n",
    "#xticklables=(vt,[i for i in xstick1])\n",
    "ax.bar(vt,y)\n",
    "plt.xlabel('feature')\n",
    "plt.ylabel('importance')\n",
    "plt.title('Feature importance')\n",
    "plt.show()"
   ]
  },
  {
   "cell_type": "markdown",
   "metadata": {},
   "source": [
    "5\\. Is the relationship between the top 3 most important features (as measured here) negative or positive? If your marketing director asked you to explain the top 3 drivers of churn, how would you interpret the relationship between these 3 features and the churn outcome?  What \"real-life\" connection can you draw between each variable and churn?"
   ]
  },
  {
   "cell_type": "code",
   "execution_count": 10,
   "metadata": {},
   "outputs": [
    {
     "name": "stdout",
     "output_type": "stream",
     "text": [
      "CR between \"revenue\" and \"eqpdays\":  -0.221958035997\n",
      "CR between \"revenue\" and \"outcalls\":  0.500870373178\n",
      "CR between \"eqpdays\" and \"outcalls\":  -0.243999251958\n",
      "CR between \"revenue\" and \"churndep\":  -0.0135660818676\n",
      "CR between \"eqpdays\" and \"churndep\":  0.112730993316\n",
      "CR between \"outcalls\" and \"churndep\":  -0.037233028525\n"
     ]
    }
   ],
   "source": [
    "# Code/answer here\n",
    "cr_r_e=np.corrcoef(df['revenue'],df['eqpdays'])[1,0]\n",
    "cr_r_o=np.corrcoef(df['revenue'],df['outcalls'])[1,0]\n",
    "cr_e_o=np.corrcoef(df['eqpdays'],df['outcalls'])[1,0]\n",
    "cr_r_c=np.corrcoef(df['revenue'],df['churndep'])[1,0]\n",
    "cr_e_c=np.corrcoef(df['eqpdays'],df['churndep'])[1,0]\n",
    "cr_o_c=np.corrcoef(df['outcalls'],df['churndep'])[1,0]\n",
    "print('CR between \"revenue\" and \"eqpdays\": ',cr_r_e)\n",
    "print('CR between \"revenue\" and \"outcalls\": ',cr_r_o)\n",
    "print('CR between \"eqpdays\" and \"outcalls\": ',cr_e_o)\n",
    "print('CR between \"revenue\" and \"churndep\": ',cr_r_c)\n",
    "print('CR between \"eqpdays\" and \"churndep\": ',cr_e_c)\n",
    "print('CR between \"outcalls\" and \"churndep\": ',cr_o_c)"
   ]
  },
  {
   "cell_type": "markdown",
   "metadata": {},
   "source": [
    "<font face=\"Black\" size=5>Answer:</font><br>\n",
    "The relationship between 'revenue' and 'eqpdays' and that of 'eqpdays' and 'outcalls' are negative, while 'revenue' has a positive relationship with 'outcalls'. Although the correlation between the three features and churn is relatively small, 'eqpdays' has a positive effect on churn while the other two has a negative effect on it. It's possibly because the company's outcall service is highly qualified, so the customers who always make a international dialing prefers to choose the company. More outcalls means more revenue since the cost of every minute call is higher, so more outcalls makes more revenue and less churn. However, eqpdays has a negative relation with outcalls and a positive effect on churn. It might be true that many customers were just arriving at the U.S. from abroad when they chose the company's service. The longer they lived in the country(i.e. they used their new device for longer time) the less international dailings they are willing to make since their main social relations changed from their homeland to the U.S."
   ]
  },
  {
   "cell_type": "markdown",
   "metadata": {},
   "source": [
    "6\\. Using the classifier built in 2.3, try predicting `\"churndep\"` on both the train_df and test_df data sets. What is the accuracy on each? If they are different, can you explain the difference?"
   ]
  },
  {
   "cell_type": "code",
   "execution_count": 29,
   "metadata": {},
   "outputs": [
    {
     "name": "stdout",
     "output_type": "stream",
     "text": [
      "Accuracy on train_df and Y:  0.999843201204\n",
      "Accuracy on test_df and Y: 0.539262418465\n"
     ]
    }
   ],
   "source": [
    "# Code here\n",
    "Yt=test_df['churndep']\n",
    "Xt=test_df.drop('churndep',1)\n",
    "X_pred=dt.predict(X)\n",
    "Xt_pred=dt.predict(Xt)\n",
    "AcX_Y=dt.score(X,Y)\n",
    "AcXt_Yt=dt.score(Xt,Yt)\n",
    "print('Accuracy on train_df and Y: ',AcX_Y)\n",
    "print('Accuracy on test_df and Y:',AcXt_Yt)"
   ]
  },
  {
   "cell_type": "markdown",
   "metadata": {},
   "source": [
    "<font face=\"Black\" size=5>Explaination:</font><br>\n",
    "Because the data used for training is highly consistent with the decision tree built, so the accuracy could be very high. While the training process didn't involve the test dataset, those data is new for the tree, so the accuracy reduces significantly."
   ]
  },
  {
   "cell_type": "markdown",
   "metadata": {},
   "source": [
    "### Part 3 - Finding a Good Decision Tree\n",
    "The default options for your decision tree may not be optimal. We need to analyze whether tuning the parameters can improve the accuracy of the classifier.  For the following options `min_samples_split` and `min_samples_leaf`:"
   ]
  },
  {
   "cell_type": "markdown",
   "metadata": {},
   "source": [
    "1\\. Generate a list of 10 values of each for the parameters mim_samples_split and min_samples_leaf. "
   ]
  },
  {
   "cell_type": "code",
   "execution_count": 57,
   "metadata": {
    "collapsed": true
   },
   "outputs": [],
   "source": [
    "# Code here\n",
    "\n",
    "#min_samples_split_values = [x for x in range(2,12,1)]\n",
    "#min_samples_leaf_values = [x for x in range(1,11,1)]\n",
    "#min_samples_split_values = [2,4,8,16,32,64,128,256,512,1024]\n",
    "#min_samples_leaf_values = [2,4,8,16,32,64,128,256,512,1024]\n",
    "min_samples_split_values = [3,6,9,27,81,243,729,2187,6561,19683]\n",
    "min_samples_leaf_values = [3,6,9,27,81,243,729,2187,6561,19683]"
   ]
  },
  {
   "cell_type": "markdown",
   "metadata": {},
   "source": [
    "2\\. Explain in words your reasoning for choosing the above ranges."
   ]
  },
  {
   "cell_type": "markdown",
   "metadata": {},
   "source": [
    "<font face=\"Black\" size=5>Answer:</font><br>\n",
    "Small split and leaf thresholds might result in overfitting. When calculating, if the number of observations in the node is lower than minimum split size, the decition tree will stop splitting; while if the number of observations in any child nodes of the current node turned to be lower than the minimum leaf size, the tree will also stop splitting. I tested several combinations, and found the current ranges could show the tendency of accuracy change best."
   ]
  },
  {
   "cell_type": "markdown",
   "metadata": {},
   "source": [
    "3\\. For each combination of values in 3.1 (there should be 100), build a new classifier and check the classifier's accuracy on the test data. Plot the test set accuracy for these options. Use the values of `min_samples_split` as the x-axis and generate a new series (line) for each of `min_samples_leaf`."
   ]
  },
  {
   "cell_type": "code",
   "execution_count": 58,
   "metadata": {
    "collapsed": true
   },
   "outputs": [],
   "source": [
    "Cac=[x for x in range(1,11,1)]\n",
    "Dac=np.zeros((10,10))\n",
    "ac_df_2=pd.DataFrame(columns=min_samples_leaf_values,index=min_samples_split_values,data=Dac)\n",
    "for lvs in min_samples_leaf_values:\n",
    "    for spl in min_samples_split_values:\n",
    "        dtest=DecisionTreeClassifier(criterion='entropy',min_samples_leaf=lvs,min_samples_split=spl)\n",
    "        dtest.fit(X,Y)\n",
    "        ActestXt_Yt=dtest.score(Xt,Yt)\n",
    "        ac_df_2[lvs][spl]=ActestXt_Yt"
   ]
  },
  {
   "cell_type": "code",
   "execution_count": 59,
   "metadata": {},
   "outputs": [
    {
     "data": {
      "text/html": [
       "<div>\n",
       "<style>\n",
       "    .dataframe thead tr:only-child th {\n",
       "        text-align: right;\n",
       "    }\n",
       "\n",
       "    .dataframe thead th {\n",
       "        text-align: left;\n",
       "    }\n",
       "\n",
       "    .dataframe tbody tr th {\n",
       "        vertical-align: top;\n",
       "    }\n",
       "</style>\n",
       "<table border=\"1\" class=\"dataframe\">\n",
       "  <thead>\n",
       "    <tr style=\"text-align: right;\">\n",
       "      <th></th>\n",
       "      <th>3</th>\n",
       "      <th>6</th>\n",
       "      <th>9</th>\n",
       "      <th>27</th>\n",
       "      <th>81</th>\n",
       "      <th>243</th>\n",
       "      <th>729</th>\n",
       "      <th>2187</th>\n",
       "      <th>6561</th>\n",
       "      <th>19683</th>\n",
       "    </tr>\n",
       "  </thead>\n",
       "  <tbody>\n",
       "    <tr>\n",
       "      <th>3</th>\n",
       "      <td>0.535248</td>\n",
       "      <td>0.532865</td>\n",
       "      <td>0.540893</td>\n",
       "      <td>0.556071</td>\n",
       "      <td>0.572629</td>\n",
       "      <td>0.591194</td>\n",
       "      <td>0.586804</td>\n",
       "      <td>0.588435</td>\n",
       "      <td>0.581912</td>\n",
       "      <td>0.490843</td>\n",
       "    </tr>\n",
       "    <tr>\n",
       "      <th>6</th>\n",
       "      <td>0.531485</td>\n",
       "      <td>0.531485</td>\n",
       "      <td>0.541395</td>\n",
       "      <td>0.556322</td>\n",
       "      <td>0.572629</td>\n",
       "      <td>0.591194</td>\n",
       "      <td>0.586804</td>\n",
       "      <td>0.588435</td>\n",
       "      <td>0.581912</td>\n",
       "      <td>0.490843</td>\n",
       "    </tr>\n",
       "    <tr>\n",
       "      <th>9</th>\n",
       "      <td>0.531234</td>\n",
       "      <td>0.532112</td>\n",
       "      <td>0.541520</td>\n",
       "      <td>0.556698</td>\n",
       "      <td>0.572629</td>\n",
       "      <td>0.591194</td>\n",
       "      <td>0.586804</td>\n",
       "      <td>0.588435</td>\n",
       "      <td>0.581912</td>\n",
       "      <td>0.490843</td>\n",
       "    </tr>\n",
       "    <tr>\n",
       "      <th>27</th>\n",
       "      <td>0.539890</td>\n",
       "      <td>0.544656</td>\n",
       "      <td>0.547792</td>\n",
       "      <td>0.556448</td>\n",
       "      <td>0.572629</td>\n",
       "      <td>0.591194</td>\n",
       "      <td>0.586804</td>\n",
       "      <td>0.588435</td>\n",
       "      <td>0.581912</td>\n",
       "      <td>0.490843</td>\n",
       "    </tr>\n",
       "    <tr>\n",
       "      <th>81</th>\n",
       "      <td>0.555444</td>\n",
       "      <td>0.558705</td>\n",
       "      <td>0.557451</td>\n",
       "      <td>0.560336</td>\n",
       "      <td>0.572629</td>\n",
       "      <td>0.591194</td>\n",
       "      <td>0.586804</td>\n",
       "      <td>0.588435</td>\n",
       "      <td>0.581912</td>\n",
       "      <td>0.490843</td>\n",
       "    </tr>\n",
       "    <tr>\n",
       "      <th>243</th>\n",
       "      <td>0.579654</td>\n",
       "      <td>0.578525</td>\n",
       "      <td>0.577145</td>\n",
       "      <td>0.575765</td>\n",
       "      <td>0.576643</td>\n",
       "      <td>0.591194</td>\n",
       "      <td>0.586804</td>\n",
       "      <td>0.588435</td>\n",
       "      <td>0.581912</td>\n",
       "      <td>0.490843</td>\n",
       "    </tr>\n",
       "    <tr>\n",
       "      <th>729</th>\n",
       "      <td>0.590818</td>\n",
       "      <td>0.591194</td>\n",
       "      <td>0.591320</td>\n",
       "      <td>0.593201</td>\n",
       "      <td>0.589689</td>\n",
       "      <td>0.591320</td>\n",
       "      <td>0.586804</td>\n",
       "      <td>0.588435</td>\n",
       "      <td>0.581912</td>\n",
       "      <td>0.490843</td>\n",
       "    </tr>\n",
       "    <tr>\n",
       "      <th>2187</th>\n",
       "      <td>0.595961</td>\n",
       "      <td>0.595835</td>\n",
       "      <td>0.595710</td>\n",
       "      <td>0.596086</td>\n",
       "      <td>0.594581</td>\n",
       "      <td>0.594330</td>\n",
       "      <td>0.586804</td>\n",
       "      <td>0.588435</td>\n",
       "      <td>0.581912</td>\n",
       "      <td>0.490843</td>\n",
       "    </tr>\n",
       "    <tr>\n",
       "      <th>6561</th>\n",
       "      <td>0.592449</td>\n",
       "      <td>0.592449</td>\n",
       "      <td>0.592449</td>\n",
       "      <td>0.592449</td>\n",
       "      <td>0.592449</td>\n",
       "      <td>0.592449</td>\n",
       "      <td>0.592449</td>\n",
       "      <td>0.592449</td>\n",
       "      <td>0.581912</td>\n",
       "      <td>0.490843</td>\n",
       "    </tr>\n",
       "    <tr>\n",
       "      <th>19683</th>\n",
       "      <td>0.581912</td>\n",
       "      <td>0.581912</td>\n",
       "      <td>0.581912</td>\n",
       "      <td>0.581912</td>\n",
       "      <td>0.581912</td>\n",
       "      <td>0.581912</td>\n",
       "      <td>0.581912</td>\n",
       "      <td>0.581912</td>\n",
       "      <td>0.581912</td>\n",
       "      <td>0.490843</td>\n",
       "    </tr>\n",
       "  </tbody>\n",
       "</table>\n",
       "</div>"
      ],
      "text/plain": [
       "          3         6         9         27        81        243       729    \\\n",
       "3      0.535248  0.532865  0.540893  0.556071  0.572629  0.591194  0.586804   \n",
       "6      0.531485  0.531485  0.541395  0.556322  0.572629  0.591194  0.586804   \n",
       "9      0.531234  0.532112  0.541520  0.556698  0.572629  0.591194  0.586804   \n",
       "27     0.539890  0.544656  0.547792  0.556448  0.572629  0.591194  0.586804   \n",
       "81     0.555444  0.558705  0.557451  0.560336  0.572629  0.591194  0.586804   \n",
       "243    0.579654  0.578525  0.577145  0.575765  0.576643  0.591194  0.586804   \n",
       "729    0.590818  0.591194  0.591320  0.593201  0.589689  0.591320  0.586804   \n",
       "2187   0.595961  0.595835  0.595710  0.596086  0.594581  0.594330  0.586804   \n",
       "6561   0.592449  0.592449  0.592449  0.592449  0.592449  0.592449  0.592449   \n",
       "19683  0.581912  0.581912  0.581912  0.581912  0.581912  0.581912  0.581912   \n",
       "\n",
       "          2187      6561      19683  \n",
       "3      0.588435  0.581912  0.490843  \n",
       "6      0.588435  0.581912  0.490843  \n",
       "9      0.588435  0.581912  0.490843  \n",
       "27     0.588435  0.581912  0.490843  \n",
       "81     0.588435  0.581912  0.490843  \n",
       "243    0.588435  0.581912  0.490843  \n",
       "729    0.588435  0.581912  0.490843  \n",
       "2187   0.588435  0.581912  0.490843  \n",
       "6561   0.592449  0.581912  0.490843  \n",
       "19683  0.581912  0.581912  0.490843  "
      ]
     },
     "execution_count": 59,
     "metadata": {},
     "output_type": "execute_result"
    }
   ],
   "source": [
    "ac_df_2"
   ]
  },
  {
   "cell_type": "code",
   "execution_count": 149,
   "metadata": {},
   "outputs": [
    {
     "data": {
      "image/png": "[encoded data removed]",
      "text/plain": [
       "<matplotlib.figure.Figure at 0x2926bb6ab70>"
      ]
     },
     "metadata": {},
     "output_type": "display_data"
    }
   ],
   "source": [
    "import matplotlib.pyplot as plt\n",
    "from matplotlib.pylab import datestr2num\n",
    "%matplotlib inline\n",
    "fig,ax=plt.subplots(figsize = (12, 6))\n",
    "xplt=[z for z in range(1,20000,2200)]\n",
    "xplt_out=[z for z in min_samples_split_values]\n",
    "yplt=ac_df_2[3]\n",
    "#plt.set_xticks=(np.arange(10),xplt)\n",
    "for i in range(10):\n",
    "    ax.plot(xplt, ac_df_2[min_samples_leaf_values[i]], label='leaf{}'.format(min_samples_leaf_values[i]))\n",
    "ax.set_xticks(xplt)\n",
    "ax.set_xticklabels(xplt_out)\n",
    "ax.set_ylabel('accuracy')\n",
    "ax.set_xlabel('min_sample_split')\n",
    "ax.set_title('relationship between accuracy and two parameters')\n",
    "plt.legend()\n",
    "plt.show()\n",
    "# Code here"
   ]
  },
  {
   "cell_type": "markdown",
   "metadata": {},
   "source": [
    "4\\. Which configuration returns the best accuracy? What is this accuracy? (Note, if you don't see much variation in the test set accuracy across values of min_samples_split or min_samples_leaf, try redoing the above steps with a different range of values)."
   ]
  },
  {
   "cell_type": "code",
   "execution_count": 150,
   "metadata": {},
   "outputs": [
    {
     "name": "stdout",
     "output_type": "stream",
     "text": [
      "min_sampels_leaf= 27\n",
      "min_sampels_split= 2187\n",
      "best accuracy= 0.596086302057\n"
     ]
    }
   ],
   "source": [
    "# Code here\n",
    "xx=np.array(ac_df_2)\n",
    "re=np.where(xx==np.max(xx))\n",
    "print('min_sampels_leaf=',min_samples_leaf_values[re[1][0]])\n",
    "print('min_sampels_split=',min_samples_split_values[re[0][0]])\n",
    "print('best accuracy=',ac_df_2[min_samples_leaf_values[re[1][0]]][min_samples_split_values[re[0][0]]])"
   ]
  },
  {
   "cell_type": "markdown",
   "metadata": {},
   "source": [
    "<font face=\"Black\" size=5>Answer:</font><br>\n",
    "When min_samples_leaf=27 and min_samples_split=2187, we could acquire the best accuracy which is 0.596086302057."
   ]
  },
  {
   "cell_type": "markdown",
   "metadata": {},
   "source": [
    "5\\. If you were working for a marketing department, how would you use your churn production model in a real business environment? Explain why churn prediction might be good for the business and how one might improve churn by using this model."
   ]
  },
  {
   "cell_type": "markdown",
   "metadata": {},
   "source": [
    "<font face=\"Black\" size=5>Answer:</font><br>\n",
    "With the decision tree built and trained, it is clear that some features, such as eqpdays and outcalls, are related to a customer's probability of churning. Thus makes it possible for predicting future churn with the model. The company could grasp their target customers by pushing accurate ads about their international call services to those who needs it, and offer coupons to those who is predicted to churn in the future."
   ]
  }
 ],
 "metadata": {
  "anaconda-cloud": {},
  "kernelspec": {
   "display_name": "Python 3",
   "language": "python",
   "name": "python3"
  },
  "language_info": {
   "codemirror_mode": {
    "name": "ipython",
    "version": 3
   },
   "file_extension": ".py",
   "mimetype": "text/x-python",
   "name": "python",
   "nbconvert_exporter": "python",
   "pygments_lexer": "ipython3",
   "version": "3.6.3"
  }
 },
 "nbformat": 4,
 "nbformat_minor": 1
}
