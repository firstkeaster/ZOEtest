{
 "cells": [
  {
   "cell_type": "markdown",
   "metadata": {},
   "source": [
    "# Introduction to Data Science\n",
    "## Homework 5"
   ]
  },
  {
   "cell_type": "markdown",
   "metadata": {},
   "source": [
    "Student Name: Fu Shang\n",
    "\n",
    "Student Netid: fs1520\n",
    "***"
   ]
  },
  {
   "cell_type": "markdown",
   "metadata": {},
   "source": [
    "### Part 1: Naive Bayes (5 Points)"
   ]
  },
  {
   "cell_type": "markdown",
   "metadata": {},
   "source": [
    "1\\. From your reading you know that the naive Bayes classifier works by calculating the conditional probabilities of each feature, $e_i$, occuring with each class $c$ and treating them independently. This results in the probability of a certain class occuring given a set of features, or a piece of evidence, $E$, as\n",
    "\n",
    "$$P(c \\mid E) = \\frac{p(e_1 \\mid c) \\cdot p(e_2 \\mid c) \\cdot \\cdot \\cdot p(e_k \\mid c) \\cdot p(c)}{p(E)}.$$\n",
    "\n",
    "The conditional probability of each piece of evidence occuring with a given class is given by\n",
    "\n",
    "$$P(e_i \\mid c) = \\frac{\\text{count}(e_i, c)}{\\text{count}(c)}.$$\n",
    "\n",
    "In the above equation $\\text{count}(e_i, c)$ is the number of documents in a given class that contain feature $e_i$ and $\\text{count}(c)$ is the number of documents that belong to class $c$. \n",
    "\n",
    "A common variation of the above is to use Laplace (sometimes called +1) smoothing. Recall the use of Laplace smoothing introduced toward the end of Chapter 3 in the section Probability Estimation. This is done in sklearn by setting `alpha=1` in the `BernoulliNB()` function (this is also the default behavior). The result of Laplace smoothing will slightly change the conditional probabilities,\n",
    "\n",
    "$$P(e_i \\mid c) = \\frac{\\text{count}(e_i, c) + 1}{\\text{count}(c) + 2}.$$\n",
    "\n",
    "In no more than **one paragraph**, describe why this is useful, and use the bias-variance tradeoff to justify its use. Try to think of a case when not using Laplace smoothing would result in \"bad\" models. Try to give an example. Be precise."
   ]
  },
  {
   "cell_type": "markdown",
   "metadata": {},
   "source": [
    "<font face='Arial' size='5'>Answer:</font><br>\n",
    "If some classes in the training set is small and some features didn't occur in those classes, there will be zero-probability for that feature, while this results in zero-probability in the Naive Bayes since it's a part of the mutiply.So we could add a '1' to each class to avoid this bias. Since bias is E(Fc(ei)-y) and variance is E((Fc(ei)-F(ei))^2), by using the Laplace Smoothing, the total F(ei) won't change a lot, we can significantly decrease bias while almost without increasing variance. One example is in text classification, there are three classes C1, C2 and C3, while word X appeared 0, 450, 50 times in each class. Without Laplace Smoothing, the p(ei|c) is respectively 0,0.9 and 0.1 and the total probability will be zero. With Laplace smoothing, the p(ei|c) changes into 0.0020, 0.8966, 0.1014, which forms a sensible total probability."
   ]
  },
  {
   "cell_type": "markdown",
   "metadata": {},
   "source": [
    "### Part 2: Text classification for sentiment analysis (20 Points)\n",
    "For this part of the assignment, we are going to use a data set of movie ratings from IMDB.com. The data consists of the text of a movie review and a target variable which tells us whether the reviewer had a positive feeling towards the movie (equivalent to rating the movie between 7 and 10) or a negative feeling (rating the movie between 1 and 4). Neutral reactions are not included in the data.\n",
    "\n",
    "The data are located in \"`data/imdb.csv`\". The first column is the review text; the second is the text label 'P' for positive or 'N' for negative."
   ]
  },
  {
   "cell_type": "markdown",
   "metadata": {},
   "source": [
    "1 (1 Point) \\. Load the data into a pandas `DataFrame()`."
   ]
  },
  {
   "cell_type": "code",
   "execution_count": 1,
   "metadata": {
    "collapsed": true
   },
   "outputs": [],
   "source": [
    "import pandas as pd\n",
    "import numpy as np\n",
    "import os\n",
    "nowpath=os.path.abspath('.')\n",
    "data = None\n",
    "data=pd.read_csv(nowpath+'/imdb.csv',sep=',')\n",
    "data=pd.DataFrame(data)"
   ]
  },
  {
   "cell_type": "markdown",
   "metadata": {},
   "source": [
    "2 (1 Point)\\. Code the target variable to be numeric: use the value `1` to represent 'P' and `0` to represent 'N'."
   ]
  },
  {
   "cell_type": "code",
   "execution_count": 2,
   "metadata": {
    "collapsed": true
   },
   "outputs": [],
   "source": [
    "data['NumCmt']=((data['Class']=='P').astype('int64'))"
   ]
  },
  {
   "cell_type": "markdown",
   "metadata": {},
   "source": [
    "3 (2 Points)\\. Put all of the text into a data frame called `X` and the target variable in a data frame called `Y`. Make a train/test split where you give 75% of the data to training. Feel free to use any function from sklearn."
   ]
  },
  {
   "cell_type": "code",
   "execution_count": 3,
   "metadata": {},
   "outputs": [
    {
     "name": "stderr",
     "output_type": "stream",
     "text": [
      "E:\\Programming\\Anaconda\\lib\\site-packages\\sklearn\\cross_validation.py:44: DeprecationWarning: This module was deprecated in version 0.18 in favor of the model_selection module into which all the refactored classes and functions are moved. Also note that the interface of the new CV iterators are different from that of this module. This module will be removed in 0.20.\n",
      "  \"This module will be removed in 0.20.\", DeprecationWarning)\n"
     ]
    }
   ],
   "source": [
    "from sklearn.cross_validation import train_test_split\n",
    "\n",
    "X = data.loc[:,'Text']\n",
    "Y = data.loc[:,'NumCmt']\n",
    "\n",
    "X_train, X_test, Y_train, Y_test = train_test_split(X, Y, test_size=0.25, random_state=666)"
   ]
  },
  {
   "cell_type": "markdown",
   "metadata": {},
   "source": [
    "4 (5 Points)\\. Create a binary `CountVectorizer()` and a binary `TfidfVectorizer()`. Use the original single words as well as bigrams (in the same model). Also, use an \"english\" stop word list. Fit these to the training data to extract a vocabulary and then transform both the train and test data. Hint - look at the API documentation for both vectorizers to see what we mean by \"binary.\""
   ]
  },
  {
   "cell_type": "code",
   "execution_count": 4,
   "metadata": {
    "collapsed": true
   },
   "outputs": [],
   "source": [
    "from sklearn.feature_extraction.text import TfidfVectorizer, CountVectorizer\n",
    "\n",
    "n_features=500\n",
    "#TffV=TfidfVectorizer(max_df=0.95,min_df=2,max_features=n_features, #max_features\n",
    "#                    ngram_range=(1, 2),binary=True,stop_words='english')\n",
    "TffV=TfidfVectorizer(max_df=0.95,min_df=2,ngram_range=(1, 2),\n",
    "                     binary=True,stop_words='english')\n",
    "X_train_TffV=TffV.fit_transform(X_train)\n",
    "CV=CountVectorizer(max_df=0.95,min_df=2,ngram_range=(1, 2),\n",
    "                   binary=True,stop_words='english')\n",
    "X_train_CV=CV.fit_transform(X_train)"
   ]
  },
  {
   "cell_type": "code",
   "execution_count": 5,
   "metadata": {
    "collapsed": true
   },
   "outputs": [],
   "source": [
    "X_test_TffV=TffV.transform(X_test)\n",
    "X_test_CV=CV.transform(X_test)"
   ]
  },
  {
   "cell_type": "markdown",
   "metadata": {},
   "source": [
    "5 (6 Points)\\. Create `LogisticRegression()` and `BernoulliNB()` models. For all settings, keep the default values. In a single plot, show the AUC curve for both classifiers and both vectorizers defined above. In the legend, include the area under the ROC curve (AUC). Do not forget to label your axes. Your final plot will be a single window with 4 curves.\n",
    "\n",
    "Which model do you think does a better job? Why? Explain in no more than a paragraph.\n",
    "\n",
    "Extra credit (2 points): Do any of the options perform identically? If so, can you explain why?"
   ]
  },
  {
   "cell_type": "code",
   "execution_count": 6,
   "metadata": {
    "collapsed": true
   },
   "outputs": [],
   "source": [
    "from sklearn.metrics import roc_curve, auc\n",
    "from sklearn.preprocessing import label_binarize\n",
    "def plotUnivariateROC(preds, truth, label_string):\n",
    "    '''\n",
    "    preds is an nx1 array of predictions\n",
    "    truth is an nx1 array of truth labels\n",
    "    label_string is text to go into the plotting label\n",
    "    '''\n",
    "    #Student input code here\n",
    "    #1. call the roc_curve function to get the ROC X and Y values\n",
    "    fpr, tpr, thresholds = roc_curve(truth, preds)\n",
    "    #2. Input fpr and tpr into the auc function to get the AUC\n",
    "    roc_auc = auc(fpr, tpr)\n",
    "    \n",
    "    #we are doing this as a special case because we are sending unfitted predictions\n",
    "    #into the function\n",
    "    if roc_auc < 0.5:\n",
    "        fpr, tpr, thresholds = roc_curve(truth, -1 * preds)\n",
    "        roc_auc = auc(fpr, tpr)\n",
    "\n",
    "    #chooses a random color for plotting\n",
    "    c = (np.random.rand(), np.random.rand(), np.random.rand())\n",
    "\n",
    "    #create a plot and set some options\n",
    "    plt.plot(fpr, tpr, color = c, label = label_string + ' (AUC = %0.3f)' % roc_auc)\n",
    "    \n",
    "\n",
    "    plt.plot([0, 1], [0, 1], color='navy', lw=2,linestyle= '--')\n",
    "    plt.xlim([0.0, 1.0])\n",
    "    plt.ylim([0.0, 1.0])\n",
    "    plt.xlabel('FPR')\n",
    "    plt.ylabel('TPR')\n",
    "    plt.title('ROC')\n",
    "    plt.legend(loc=\"lower right\")\n",
    "    \n",
    "    return roc_auc"
   ]
  },
  {
   "cell_type": "code",
   "execution_count": 7,
   "metadata": {},
   "outputs": [
    {
     "data": {
      "text/plain": [
       "BernoulliNB(alpha=1.0, binarize=0.0, class_prior=None, fit_prior=True)"
      ]
     },
     "execution_count": 7,
     "metadata": {},
     "output_type": "execute_result"
    }
   ],
   "source": [
    "from sklearn.linear_model import LogisticRegression\n",
    "from sklearn.naive_bayes import BernoulliNB\n",
    "from sklearn import metrics\n",
    "\n",
    "LR_TffV=LogisticRegression()\n",
    "LR_CV=LogisticRegression()\n",
    "BNB_TffV=BernoulliNB()\n",
    "BNB_CV=BernoulliNB()\n",
    "LR_TffV.fit(X_train_TffV,Y_train)\n",
    "LR_CV.fit(X_train_CV,Y_train)\n",
    "BNB_TffV.fit(X_train_TffV,Y_train)\n",
    "BNB_CV.fit(X_train_CV,Y_train)\n",
    "\n",
    "# Code here"
   ]
  },
  {
   "cell_type": "code",
   "execution_count": 8,
   "metadata": {
    "collapsed": true
   },
   "outputs": [],
   "source": [
    "Y_LR_TffV=LR_TffV.predict(X_test_TffV)\n",
    "Y_LR_TffV_Proba=LR_TffV.predict_proba(X_test_TffV)\n",
    "Y_LR_CV=LR_CV.predict(X_test_CV)\n",
    "Y_LR_CV_Proba=LR_CV.predict_proba(X_test_CV)\n",
    "Y_BNB_TffV=BNB_TffV.predict(X_test_TffV)\n",
    "Y_BNB_TffV_Proba=BNB_TffV.predict_proba(X_test_TffV)\n",
    "Y_BNB_CV=BNB_CV.predict(X_test_CV)\n",
    "Y_BNB_CV_Proba=BNB_CV.predict_proba(X_test_CV)"
   ]
  },
  {
   "cell_type": "code",
   "execution_count": 9,
   "metadata": {},
   "outputs": [
    {
     "data": {
      "text/plain": [
       "<matplotlib.legend.Legend at 0x236f530dac8>"
      ]
     },
     "execution_count": 9,
     "metadata": {},
     "output_type": "execute_result"
    },
    {
     "data": {
      "image/png": "[encoded data removed]",
      "text/plain": [
       "<matplotlib.figure.Figure at 0x236f45210b8>"
      ]
     },
     "metadata": {},
     "output_type": "display_data"
    }
   ],
   "source": [
    "# Run this so your plots show properly\n",
    "import matplotlib.pyplot as plt\n",
    "%matplotlib inline\n",
    "fig = plt.figure(figsize = (12, 12))\n",
    "pc = plt.subplot(111)\n",
    "feature_auc_dict = {}\n",
    "feature_auc_dict[LR_TffV] = plotUnivariateROC(Y_LR_TffV_Proba[:,1], Y_test, 'LR_TffV')\n",
    "feature_auc_dict[LR_CV] = plotUnivariateROC(Y_LR_CV_Proba[:,1], Y_test, 'LR_CV')\n",
    "feature_auc_dict[BNB_TffV] = plotUnivariateROC(Y_BNB_TffV_Proba[:,1], Y_test, 'BNB_TffV')\n",
    "feature_auc_dict[BNB_CV] = plotUnivariateROC(Y_BNB_CV_Proba[:,1], Y_test, 'BNB_CV')\n",
    "box=pc.get_position()\n",
    "pc.set_position([box.x0, box.y0 + box.height * 0.0 , box.width, box.height * 1])\n",
    "pc.legend(loc = 'upper center', bbox_to_anchor = (0.5, -0.15), fancybox = True, \n",
    "              shadow = True, ncol = 4, prop = {'size':10})"
   ]
  },
  {
   "cell_type": "markdown",
   "metadata": {},
   "source": [
    "1.Which model do you think does a better job? Why? <br>\n",
    "<font face='Arial' size='5'>Answer:</font><br>\n",
    "The result shows that Logistic Regression with the term-frequency-inverse- document-frequency vectorizer group works the best. It might because althouth the Bernoulli Naive Bayes is a simple and fast model, its inherent peformance is worse, makes its precision lower than other models such as the Logistic Regression classifier. The LR model performs better with a Tfidf Transformer on the original vectorizer, since the model could always perform better with a normalized dataset.<br><br>\n",
    "2.Do any of the options perform identically? If so, can you explain why?<br>\n",
    "<font face='Arial' size='5'>Answer:</font><br>\n",
    "The Bernoulli Naive Bayes with Tfidf and count vectorizer has the same performance. This is because since we set the binary 'True', the Tfidf could cover the function of Laplace Smoothing which sets all non-zero term counts 1, to avoid zero-probabilities. However, the BernoulliNB model also has an 'alpha' parameter, which is defaultly set 1, to do the Laplace Smoothing. This means when dealing with the Count Vectorizer transformed data, BernoulliNB smoothes them the same way as the TfidfV did. In this case, the BNB model has the same input dataset after the 'alpha' parameter did its job. So the outputs and AUCs are completely the same."
   ]
  },
  {
   "cell_type": "markdown",
   "metadata": {
    "collapsed": true
   },
   "source": [
    "5\\. Use the model from question 4 that you think did the best job and predict the rating of the test data. Find 5 examples the should have been positive, but were incorrectly classified as negative. Print out the reviews below and include an explanation as to why you think it may have been incorrectly classified. You can pick any 5. They do not have to be at random."
   ]
  },
  {
   "cell_type": "code",
   "execution_count": 10,
   "metadata": {},
   "outputs": [
    {
     "data": {
      "text/plain": [
       "pandas.core.series.Series"
      ]
     },
     "execution_count": 10,
     "metadata": {},
     "output_type": "execute_result"
    }
   ],
   "source": [
    "type(Y_test)"
   ]
  },
  {
   "cell_type": "code",
   "execution_count": 11,
   "metadata": {},
   "outputs": [
    {
     "name": "stdout",
     "output_type": "stream",
     "text": [
      "7446 'All the folks who sit here and say that this movies weak link is the Ramones would probably say that Amadeus was ok if not for that irritating harpsichordist. Rock and Roll High School was centered around the Ramones. How anyone can watch this and not get a kick out of Joey Ramone eating bean sprouts backstage in an attempt to keep him in performing condition is obviously a wet blanket square daddy-o. Ms Trogar exploding white mice the hall patrols...instant classics. Nevermind the Riff Randell character. If you dont like the Ramones then you dont know rock and roll and you dont deserve to watch a movie called ROCK AND ROLL High School.'\n",
      "\n",
      "2017 'If you want to learn something about the Spanish Civil War and about all the political details and intrigues let me tell you youve chosen the wrong film. This is a vision of the war as it happened in Majorca a small island off the coast of Spain. When a war like this happens in a small island that takes position for the traitor almost at once there is no war in the open. The soldiers are sent to the front to fight in the mainland while another kind of war happens at home on the small island. There neighbours tell on other neighbours sometimes because their political views are contrary to the new regime but many people are told on because of old family fights or maybe the silent introvert who has no friends is told on by someone who wants to earn some points. And these things dont happen in the open. There were some trials true but many other times people would just be woken up in the middle of the night taken out of their homes to the closest cemetery where they would be killed. And the next morning the bodies would be found and people would have an idea of what had happened but nobody would dare to speak or to do anything. Were not talking about soldiers killing someone they had never seen in their life. Were talking about people killing their neighbours and probably saying hello to their widow the next day and even attending the funeral for the guy they had killed. Were talking about villages with one or two thousand inhabitants where everybody knew everybody. I am from that small island and Ive heard the stories my grandparents told me and I must say that this film upset me oh yes it did; but I also found it remarkably beautiful and moving. The initial violence is not something the director or the writer made up thats how things happened during that war. A kid knowing that his mates dad is in the fascist squad that killed his dad? Completely possible. All that happened later on? Possible too. TB was real too. At that time my island was not the holiday resort it has become. People were poor illiterate and worked in small farms. After the war there were times of hardship. So you wont find a war story in this film or at least not the kind of war story you expect. There are no battlefields no soldiers no political intrigues. This is the meanest kind of war which happens when the space is limited (just check the size of the island) when neighbours fight with their neighbours when members of the same family fight each other and they live in a place where everybody knows everybody. Youll find a story about the damage that this particular kind of war can cause to people and the story of how they survive that damage or maybe they dont. I must mention the excellent work done by the writers who adapted the novel and by all the actors who managed to sound really Majorcan. That was remarkable.'\n",
      "\n",
      "6896 'Henry Fool is a better film. But this is the perfect way to follow-up a film like Henry Fool. To take Henry very seriously his lies and his mysterious aura. Even the opening shot of Henry Fool when Simon puts his ear to the ground as Henry comes walking over the hill is more fully manifest through Fay Grim. The over-the-top jokes that are more or less meta-jokes (about the writing of the film and the jokes themselves) are good but the opening of the film is a little saturated in them. Also Hartleys use of Dutch angles throughout the film is jarring yes its intention but it feels forced and over-used it goes beyond jarring to what Id like to call annoying. Its a flawed film but a must see for any Hartley or Henry Fool fan.  And dont listen to stupid reviews dont watch this unless youve seen the first film. The intrigue satire and wit of this movie is totally lost if you havent seen Henry Fool. Its a sequel. Thats just dumb.'\n",
      "\n",
      "8379 'I wasnt expecting the highest calibre of film-making with Joel Schumacher directing this one so I was surprised that TIGERLAND wasnt a complete waste of time. In technique its often derivative of SAVING PRIVATE RYAN with the shaky camera work grainy shots the film occasionally running like its skipping a sprocket---all those techniques Speilberg used to make his film seem more realistic but in the end was more distracting than anything else. But unlike SAVING PRIVATE RYAN the emotional component wasnt as weak as the characters in this film seemed more like real people and the story less contrived not so wrapped up in the American flag (Speilberg gets an F in subtlety). Next to the first section of Kubricks FULL METAL JACKET this is the most realistic portrayal of boot camp that I have seen in a film and for that I think its worth watching. Its not a great film but neither is it a bad film.'\n",
      "\n",
      "2639 'Dead To Rights is about a Police Officer named Jack Slate who finds his murdered father and goes after the man that he thinks killed him.Jack is later shot and framed for the murder of the man he suspected of killing his father. Several months later on the day Jack is going to be executed he escapes from prison and searches the city for the man who framed him for murder.Jacks search leads him through a trail of *beep* that doesnt end until everyone is dead. Through out the game Jack uses weapons from M4 Carbines to his dog Shadow to kill endless streams of people in 15 levels.The game play is basically kill 30 peoplefind switch to open door.kill 50 peoplefind switch to open door over and over until the level is done.There are fun mini games too like playing as a stripper to distract bouncers at a Night Club so Jack can get to another area in the clubor bomb disarming. Dead To Rights is also a hard game.You will be put in an area swarming with bad guys armed with Sub Machine Guns while you only have a pistol.Near the end of the game skill turns to dust and you have to rely on luck. Dead To Rights is as gory as it is hard.If you shoot a guy in the face with a shot gun blood will splatter on the wallsceiling and floor.And since there are several guys in each area the walls will be painted in blood. Family fun for everyone.'\n",
      "\n",
      "3626 'Brazilian films often get more positive appraisals than they actually deserve. Rather incredibly Contra Todos (Against Everybody) (original title which the producers discarded: God Against Everybody) got very low GPA (grade point average) in this website. It seems to be bluntly rejected by female spectators at large. Actually it is not so brutal. I mean as far as graphical violence is concerned. Its brutality is intrinsic as it portrays would-be lumpens I mean underdog citizens who in fact possess high-tech equipment who coldly perform murder orders in exchange of grana graúda. Is this post-modern man? Is his/her only worry a quick almost impersonal ultra permissive lay amidst over satiating meals ? The picture is probably the best Brazilian film of 2004 so far. Its shining editing style à la Godard its curious soundtrack counterpoints its more than efficient overall cast and above all its original narration with subtle non-chronological hidden points that only come to light in the epilogue deserve at least an 8 mark.'\n",
      "\n",
      "7429 'i say the domino principle is an enormously underappreciated film.anyone who has taken the time to investigate our contemporary history of conspiracies;jfk rfk mlkg.wallace and in fact numerous others can only draw the conclusion that the author of the domino principle really knew what he was talking about.roy tucker could be lee harvey oswald or james earl ray or sirhan sirhan or arthur bremer maybe even john hinkley or timothy mcveigh.to mention a few.the conspiracy scenario involving spies big business and political assassinations is not really a fiction but an ominous part of our convoluted existential history.god help usbut the domino principle is more fact than fantasy.if this causes a little loss of sleep maybe it should.dont take my word for itinvestigate for yourselves.'\n",
      "\n",
      "6254 'so halfway through the season i got so caught up in school and my activities that i didnt realize that the show had been canceled halfway through which is crap. i think the followers of this show should write fox and ask them to at least finish filming so that a the season can be released on DVD later. maybe then theyll see how many people were disappointed that the show didnt survive its first season. i loved the show and looked forward to it every thursday after the OC. can you imagine my disappointment when i came back to try and watch the show only to discover that it had disappeared? needless to say im not very happy with fox right now. even more so after discovering that NO ENDING WAS FILMED. i mean if youre going to work on a project at least finish it to see what happens. a half filmed show is like a half made car its pretty much useless. fox film the damn ending and give some of the shows fans some peace.'\n",
      "\n",
      "5679 'What do you do with a 14-inch cocked porn star who was involved in drugs and murder and then died of AIDS? You make a movie of course. The probable reason why it wasnt made earlier is the fact that Eddie Nash would have been in the way of its production. So its no coincidence that the film was made just a little while after Nash was sent to prison. The best thing about the movie is its quick pace. There is no time wasted on unnecessary crap. And why would it be? There is too much good material here to require dull filler scenes.The cast is good. Kilmer has been mediocre in a string of movies so here was finally a role quite suitable for him. Bosworth is cute so its irrelevant how she acts (shes solid) and McDermott who is otherwise quite annoying is rather good to a large extent because he is wearing so much facial hair that I didnt recognize him at first. (I wish they did that to Cruise in every movie so I wouldnt have to watch his dumb face.) I utterly failed to recognize Christina Applegate and wouldnt have known she was in it had I not seen her name in the end-credits. Kudrow is charming as ever a bit unusual to see her in a dramatic role. (Btw Friends is the worst TV sitcom of all time.) The only casting choices that were questionable were an early near-cameo by Carrie Fischer and the totally absurd inclusion of the 90s moron Janeane Garofalo. You thought Id include Paris Hilton too didnt you? No I think Hilton is the ideal choice in her 10-second appearance as a dumb whore. Because the film is about decadence among other things  and about a porn actor  she fits in perfectly.'\n",
      "\n",
      "5000 'All right heres the deal: if youre easily offended then you might want to stay far far away from this one. There are some painfully funny moments in the movie but I probably blushed about as much as I laughed. Actually I probably blushed MORE than I laughed. And if I wasnt literally blushing on the outside then I was blushing on the inside. If there is absolutely nothing in this movie that embarrasses you then you simply have no shame. Whether thats a badge of honor or not is in the eye of the beholder I suppose. I will not deny that I laughed quite a bit but this is a movie that I simply cannot give a blanket recommendation due to its subject matter. If I were to say This movie is hilarious go check it out! and some sweet little old church-going lady heads to the theater and has a heart-attack during one of the graphically explicit sex situations well thats just something I dont need on my conscience. So how raunchy is it? Hmm try about 100 times worse than The Wedding Crashers. Honestly. My mom wouldve walked out during the first scene. I feel its my duty to at least warn you of what to expect. There is some cleverly intelligent comedy here but thats what I come to expect from the man (Judd Apatow) who had a hand in both Freaks and Geeks and Undeclared. Im all for making fun of Michael McDonald; the only man whose hair and beard are white enough to give Kenny Rogers a run for his money. Paul Rudd proclaiming If I hear Ya Mo Be There one more time Ill Ya Mo burn this place down is hilarious but its one of those things that the majority of the audience wont appreciate. And when we see a quick 3-second flashback of Steve Carrell singing along to Cameos Word Up I laughed for a good two minutes after the joke was over whereas most everybody chuckled and then forgot about it. Strangely enough despite the raunch theres an admirable moral to the story. The movie doesnt portray Carrell as some freaky loser just because hes a virgin. Hes really portrayed as a likable admirable character. Sure hes a little weird. After all he has a framed Asia poster more videogames than an Asian kid and a toy collection that features the Million Dollar Mans BOSS but were never led to believe that theres actually anything wrong with the fact that hes a virgin. As odd as it may seem theres a bit of an its OK to wait message. But man oh man please be warned that this pushes its R rating about as far as it can go. That was certainly Apatows intention. According to him he just let some of the guys (particularly Rogen and Malco) improv and talk the way they normally talk all in an effort to find lots of new ways to be dirty. If you can handle that or talk that way yourself then youll love the movie. Im not a big fan of excessive profanity and sex jokes. I find that subtle clever humor is much more entertaining than about 200 uses of the f-word or fratboy sex discussions. But thats me. Like I said there are some absolutely hysterical moments here but you have to ask yourself if theyre worth sitting through one of the most vulgar movies youre likely to ever see at the theater. I just dont know how interested most women will be in whats discussed by men while playing poker. Honestly ladies you might not want to know. If youve ever been curious why some girls think guys are gross well this gives you a good idea. There you go - my humble honest take on what to expect. Be that your guide. It definitely should not be seen with your Sunday School class mama grandmama any family members of the opposite sex children of any age or anybody who is easily offended by excessive profanity or explicit sex discussion. If youd see it with any of the above then you apparently do not have any concept of what it means to be uncomfortable.'\n",
      "\n"
     ]
    }
   ],
   "source": [
    "# Code here to display 5 incorrect reviews.\n",
    "i=0\n",
    "j=0\n",
    "for index,row in Y_test.iteritems():\n",
    "    if (row==1)and(Y_LR_TffV[i]==0):\n",
    "        print(index,X_test.loc[index]+'\\n')\n",
    "        j=j+1\n",
    "    i=i+1\n",
    "    if j>=10:\n",
    "        break"
   ]
  },
  {
   "cell_type": "markdown",
   "metadata": {},
   "source": [
    "<font face='Arial' size='5'>Explanation:</font><br>\n"
   ]
  },
  {
   "cell_type": "markdown",
   "metadata": {},
   "source": [
    "For comment 7446, the language is filled with irony and presumes about the audiences who would also give negative appraises on other movies with similar theme. There are many negative words, as well as rarely used phrases, making the classifier hard to judge its true meaning.<br><br>\n",
    "For comment 2017, the argument demonstrates great depth of thought, but it also needs more logistic analysis on all the sentences as a whole. Also the audience adulterated large amounts of personal experiences which won't make much sense. Considering the comment is longer than the most ones, it's hard to classify it for such models. What's more, there are many negative words such as death, kill, wrong, poor, etc.<br><br>\n",
    "For comment 6896, the audience said that the film has many shortcomings and listed them, making the comment a seemingly negative one. The only reason why he/she gave a high score is the movie should be a \"must see for Hartley or Henry Foll fan\".<br><br>\n",
    "For comment 2639, it's more like a retell rather than a comment except for the last sentence. The audience would just want to earn some exp. points. It's hard to say whether it's positive or negative.<br><br>\n",
    "For comment 7429, the audience used the word \"underappreciated\", which is positive but might be rare in the learning dataset, making the classifier hard to judge. The languages below are full of names and unrelated sentiment. Words and phrases which could be used to classify is too little."
   ]
  },
  {
   "cell_type": "code",
   "execution_count": null,
   "metadata": {
    "collapsed": true
   },
   "outputs": [],
   "source": []
  }
 ],
 "metadata": {
  "anaconda-cloud": {},
  "kernelspec": {
   "display_name": "Python 3",
   "language": "python",
   "name": "python3"
  },
  "language_info": {
   "codemirror_mode": {
    "name": "ipython",
    "version": 3
   },
   "file_extension": ".py",
   "mimetype": "text/x-python",
   "name": "python",
   "nbconvert_exporter": "python",
   "pygments_lexer": "ipython3",
   "version": "3.6.1"
  }
 },
 "nbformat": 4,
 "nbformat_minor": 1
}
